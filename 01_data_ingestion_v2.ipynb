{
 "cells": [
  {
   "cell_type": "markdown",
   "id": "3a2bffaf-f046-4a96-ab90-64e7788c7b7b",
   "metadata": {},
   "source": [
    "# Importing and Reading a Sample of the Data"
   ]
  },
  {
   "cell_type": "code",
   "execution_count": 11,
   "id": "dc28915f-c7a4-4314-8355-24db7e8d0b67",
   "metadata": {},
   "outputs": [],
   "source": [
    "# Import Pandas\n",
    "import pandas as pd\n",
    "\n",
    "#Set max column display to 100\n",
    "pd.set_option('display.max_columns', 100)\n",
    "import requests"
   ]
  },
  {
   "cell_type": "code",
   "execution_count": 12,
   "id": "79379422-ca44-4642-9798-555427b2fcb7",
   "metadata": {},
   "outputs": [],
   "source": [
    "# Define API URL\n",
    "base_url = 'https://data.cityofnewyork.us/resource/erm2-nwe9.csv'"
   ]
  },
  {
   "cell_type": "code",
   "execution_count": null,
   "id": "993db06f-2697-4086-a2f4-f7d8b83d3ace",
   "metadata": {},
   "outputs": [],
   "source": [
    "# Create a dataframe from the API CSV, loading only 1000 rows at a time\n",
    "df = pd.read_csv(base_url, chunksize = 1000) "
   ]
  },
  {
   "cell_type": "code",
   "execution_count": null,
   "id": "907202d0-1c9d-43c0-9827-b6f3341dc264",
   "metadata": {},
   "outputs": [],
   "source": [
    "# Select a sample of 10 from the chunk for QA\n",
    "for chunk in df:\n",
    "    display (chunk.head(10))\n",
    "                                 \n",
    "    break"
   ]
  },
  {
   "cell_type": "code",
   "execution_count": null,
   "id": "97509f1a-019d-452a-8dd5-c5344d9e0ad9",
   "metadata": {},
   "outputs": [],
   "source": [
    "# Show all columns in the chunk\n",
    "display(chunk.columns)"
   ]
  },
  {
   "cell_type": "code",
   "execution_count": null,
   "id": "0b445139-e63b-46e4-abf6-f83c1f40e528",
   "metadata": {},
   "outputs": [],
   "source": [
    "# Show data types of all columns in the chunk\n",
    "display(chunk.dtypes)"
   ]
  },
  {
   "cell_type": "markdown",
   "id": "2b8e24df-213f-499b-bd61-e638f48a2c66",
   "metadata": {},
   "source": [
    "# Sample Data Cleaning"
   ]
  },
  {
   "cell_type": "code",
   "execution_count": null,
   "id": "4f87c85a-0efc-4d30-9972-c11e57246aa9",
   "metadata": {},
   "outputs": [],
   "source": [
    "# Create a clean table, which selects only relevant columns for the EDA\n",
    "\n",
    "df_clean = chunk [[#'unique_key', \n",
    "                       'created_date', 'closed_date', 'agency', #'agency_name',\n",
    "       'complaint_type', 'descriptor', 'location_type', \n",
    "        'incident_zip',\n",
    "       #'incident_address', 'street_name', 'cross_street_1', 'cross_street_2',\n",
    "       #'intersection_street_1', 'intersection_street_2', 'address_type',\n",
    "       #'city', 'landmark', 'facility_type', 'status', 'due_date',\n",
    "       #'resolution_description', 'resolution_action_updated_date',\n",
    "       #'community_board', 'bbl', \n",
    "        'borough', \n",
    "        #'x_coordinate_state_plane',\n",
    "       #'y_coordinate_state_plane', 'open_data_channel_type',\n",
    "       #'park_facility_name', 'park_borough', 'vehicle_type',\n",
    "       #'taxi_company_borough', 'taxi_pick_up_location', 'bridge_highway_name',\n",
    "       #'bridge_highway_direction', 'road_ramp', 'bridge_highway_segment',\n",
    "       #'latitude', 'longitude', 'location'\n",
    "    ]]"
   ]
  },
  {
   "cell_type": "code",
   "execution_count": null,
   "id": "576227d2-6eec-4798-97c0-e7e82a988574",
   "metadata": {},
   "outputs": [],
   "source": [
    "#Rename columns for clean formatting\n",
    "df_clean = df_clean.rename(columns={'created_date': 'Created_Date', \n",
    "                         'closed_date': 'Closed_Date',\n",
    "                         'location_type': 'Location_Type',\n",
    "                         'agency': 'Agency', \n",
    "                         'complaint_type': 'Complaint_Type',\n",
    "                         'descriptor': 'Descriptor', \n",
    "                         'incident_zip': 'Incident_ZIP', \n",
    "                         'borough': 'Borough'}) \n",
    "                         "
   ]
  },
  {
   "cell_type": "code",
   "execution_count": null,
   "id": "69fb7b21-ed55-4a75-95f6-073c99dfe34c",
   "metadata": {},
   "outputs": [],
   "source": [
    "# Convert created_date to date_time\n",
    "df_clean['Created_Date'] = pd.to_datetime(df_clean['Created_Date'], errors='coerce')\n",
    "\n",
    "# Create a created_month column\n",
    "df_clean['Closed_Date'] = pd.to_datetime(df_clean['Closed_Date'], errors='coerce')\n",
    "\n",
    "# Create a created_month column\n",
    "df_clean['Created_Month'] = df_clean['Created_Date'].dt.to_period('M')\n",
    "\n",
    "# Create a closed_month column \n",
    "df_clean['Closed_Month'] = df_clean['Closed_Date'].dt.to_period('M')\n",
    "\n",
    "# Create a created_year column\n",
    "df_clean['Created_Year'] = df_clean['Created_Date'].dt.to_period('Y')\n",
    "\n",
    "# Create a closed_year column\n",
    "df_clean['Closed_Year'] = df_clean['Closed_Date'].dt.to_period('Y')\n",
    "\n",
    "# Convert incident_zip to integer\n",
    "df_clean['Incident_ZIP'] = df_clean['Incident_ZIP'].astype('Int64')"
   ]
  },
  {
   "cell_type": "code",
   "execution_count": null,
   "id": "f67a0e21-4edb-460c-8c6e-b781b2c7fc8c",
   "metadata": {},
   "outputs": [],
   "source": [
    "# Checking for null / missing Values for QA puproses\n",
    "df_clean.isna().sum()"
   ]
  },
  {
   "cell_type": "code",
   "execution_count": null,
   "id": "ccae74a0-cbbc-4797-90e8-ce347cb8da69",
   "metadata": {},
   "outputs": [],
   "source": [
    "# Checking for duplicates\n",
    "df_clean.loc[df_clean.duplicated()]"
   ]
  },
  {
   "cell_type": "markdown",
   "id": "47ed93cd-5d0e-402d-95ea-6a38743536af",
   "metadata": {},
   "source": [
    "# Final CSV Output Worklofw"
   ]
  },
  {
   "cell_type": "code",
   "execution_count": null,
   "id": "3d99d17e-3dbd-45e6-9cae-9d9c8404fcfd",
   "metadata": {},
   "outputs": [],
   "source": [
    "# Import Pandas\n",
    "import pandas as pd\n",
    "\n",
    "#Set max column display to 100\n",
    "pd.set_option('display.max_columns', 100)\n",
    "import requests"
   ]
  },
  {
   "cell_type": "code",
   "execution_count": null,
   "id": "3645b187-4de9-4aab-95db-d95b1d5333e1",
   "metadata": {},
   "outputs": [],
   "source": [
    "# Define API URL\n",
    "base_url = 'https://data.cityofnewyork.us/resource/erm2-nwe9.csv'"
   ]
  },
  {
   "cell_type": "code",
   "execution_count": null,
   "id": "f909a923-d856-4de9-a5c1-44433d2f111b",
   "metadata": {},
   "outputs": [],
   "source": [
    "df_final = pd.read_csv(base_url, chunksize=1000)"
   ]
  },
  {
   "cell_type": "code",
   "execution_count": null,
   "id": "438be04b-6182-40a3-a0f8-eae318fc9c29",
   "metadata": {},
   "outputs": [],
   "source": [
    "# Create final output DataFrame\n",
    "output = pd.DataFrame () \n",
    "\n",
    "# Chunk loop\n",
    "for chunk in df_final:\n",
    "\n",
    "    # Limit to just these columns\n",
    "    categories = chunk[[#'unique_key', \n",
    "                       'created_date', 'closed_date', 'agency', #'agency_name',\n",
    "       'complaint_type', 'descriptor', 'location_type', \n",
    "        'incident_zip',\n",
    "       #'incident_address', 'street_name', 'cross_street_1', 'cross_street_2',\n",
    "       #'intersection_street_1', 'intersection_street_2', 'address_type',\n",
    "       #'city', 'landmark', 'facility_type', 'status', 'due_date',\n",
    "       #'resolution_description', 'resolution_action_updated_date',\n",
    "       #'community_board', 'bbl', \n",
    "        'borough', \n",
    "        #'x_coordinate_state_plane',\n",
    "       #'y_coordinate_state_plane', 'open_data_channel_type',\n",
    "       #'park_facility_name', 'park_borough', 'vehicle_type',\n",
    "       #'taxi_company_borough', 'taxi_pick_up_location', 'bridge_highway_name',\n",
    "       #'bridge_highway_direction', 'road_ramp', 'bridge_highway_segment',\n",
    "       #'latitude', 'longitude', 'location'\n",
    "    ]]\n",
    "\n",
    "    #Rename columns for clean formatting\n",
    "    categories = categories.rename(columns={'created_date': 'Created_Date', \n",
    "                         'closed_date': 'Closed_Date',\n",
    "                         'location_type': 'Location_Type',\n",
    "                         'agency': 'Agency', \n",
    "                         'complaint_type': 'Complaint_Type',\n",
    "                         'descriptor': 'Descriptor', \n",
    "                         'incident_zip': 'Incident_ZIP', \n",
    "                         'borough': 'Borough'})\n",
    "    \n",
    "    # Convert Created_Date to date_time format\n",
    "    categories['Created_Date'] = pd.to_datetime(categories['Created_Date'], errors='coerce')\n",
    "\n",
    "    # Create a Created_Month column\n",
    "    categories['Created_Month'] = categories['Created_Date'].dt.to_period('M')\n",
    "\n",
    "    # Create a Created_Year column\n",
    "    categories['Created_Year'] = categories['Created_Date'].dt.to_period('Y')\n",
    "\n",
    "\n",
    "    # Convert incident_zip to integer\n",
    "    categories['Incident_ZIP'] = categories['Incident_ZIP'].astype('Int64')\n",
    "    \n",
    "    #New name for next count function\n",
    "    details = categories\n",
    "\n",
    "    #Assigning a \"1\" value to be summed by for each category\n",
    "    details ['count'] =1 \n",
    "    \n",
    "    # Group by these columns only\n",
    "    grouped = details.groupby (['Created_Month', 'Created_Year', 'Location_Type', 'Agency', 'Complaint_Type', \n",
    "    'Descriptor', 'Incident_ZIP', 'Borough'])['count'].sum().reset_index()\n",
    "\n",
    "    # Concat this to the loop\n",
    "    output = pd.concat([output, grouped], ignore_index=True)\n",
    "\n",
    "    # Group all concats\n",
    "    output = output.groupby([\n",
    "    'Created_Month', 'Created_Year',\n",
    "    'Location_Type', 'Agency', 'Complaint_Type', 'Descriptor',\n",
    "    'Incident_ZIP', 'Borough'\n",
    "    ])['count'].sum().reset_index()\n"
   ]
  },
  {
   "cell_type": "code",
   "execution_count": null,
   "id": "0aa42230-eb6b-49ad-9479-27a6833ee809",
   "metadata": {},
   "outputs": [],
   "source": [
    "#Final output to CSV \n",
    "output.to_csv('NYC-311-Service-Requests.csv', index = False)"
   ]
  }
 ],
 "metadata": {
  "kernelspec": {
   "display_name": "Python [conda env:base] *",
   "language": "python",
   "name": "conda-base-py"
  },
  "language_info": {
   "codemirror_mode": {
    "name": "ipython",
    "version": 3
   },
   "file_extension": ".py",
   "mimetype": "text/x-python",
   "name": "python",
   "nbconvert_exporter": "python",
   "pygments_lexer": "ipython3",
   "version": "3.13.5"
  }
 },
 "nbformat": 4,
 "nbformat_minor": 5
}
